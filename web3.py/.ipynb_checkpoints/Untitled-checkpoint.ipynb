{
 "cells": [
  {
   "cell_type": "code",
   "execution_count": 1,
   "id": "69d549b3",
   "metadata": {},
   "outputs": [
    {
     "name": "stdout",
     "output_type": "stream",
     "text": [
      "// SPDX-License-Identifier: MIT\n",
      "\n",
      "pragma solidity >=0.6.0 <0.9.0;\n",
      "\n",
      "contract SimpleStorage {\n",
      "\n",
      "    uint256 favoriteNumber;\n",
      "\n",
      "    // This is a comment!\n",
      "    struct People {\n",
      "        uint256 favoriteNumber;\n",
      "        string name;\n",
      "    }\n",
      "\n",
      "    People[] public people;\n",
      "    mapping(string => uint256) public nameToFavoriteNumber;\n",
      "\n",
      "    function store(uint256 _favoriteNumber) public {\n",
      "        favoriteNumber = _favoriteNumber;\n",
      "    }\n",
      "    \n",
      "    function retrieve() public view returns (uint256){\n",
      "        return favoriteNumber;\n",
      "    }\n",
      "\n",
      "    function addPerson(string memory _name, uint256 _favoriteNumber) public {\n",
      "        people.push(People(_favoriteNumber, _name));\n",
      "        nameToFavoriteNumber[_name] = _favoriteNumber;\n",
      "    }\n",
      "}\n",
      "\n"
     ]
    }
   ],
   "source": [
    "with open(\"SimpleStorage.sol\", \"r\") as file:\n",
    "    simple_storage_file = file.read()\n",
    "    print(simple_storage_file)"
   ]
  },
  {
   "cell_type": "code",
   "execution_count": 2,
   "id": "cbab14e5",
   "metadata": {},
   "outputs": [],
   "source": [
    "from solcx import compile_standard, install_solc\n",
    "\n",
    "# print(\"Installing...\")\n",
    "# install_solc(\"0.6.0\")"
   ]
  },
  {
   "cell_type": "code",
   "execution_count": 3,
   "id": "cd1d1a7c",
   "metadata": {},
   "outputs": [],
   "source": [
    "compiled_sol = compile_standard(\n",
    "    {\n",
    "        \"language\": \"Solidity\",\n",
    "        \"sources\": {\"SimpleStorage.sol\": {\"content\": simple_storage_file}},\n",
    "        \"settings\": {\n",
    "            \"outputSelection\": {\n",
    "                \"*\": {\n",
    "                    \"*\": [\"abi\", \"metadata\", \"evm.bytecode\", \"evm.bytecode.sourceMap\"]\n",
    "                }\n",
    "            }\n",
    "        },\n",
    "    },\n",
    "    solc_version=\"0.6.0\",\n",
    ")"
   ]
  },
  {
   "cell_type": "code",
   "execution_count": 4,
   "id": "c8dc32f1",
   "metadata": {},
   "outputs": [],
   "source": [
    "import json \n",
    "\n",
    "with open(\"compiled_code.json\", \"w\") as file:\n",
    "    json.dump(compiled_sol, file)"
   ]
  },
  {
   "cell_type": "code",
   "execution_count": 5,
   "id": "a9a40391",
   "metadata": {},
   "outputs": [],
   "source": [
    "bytecode = compiled_sol[\"contracts\"][\"SimpleStorage.sol\"][\"SimpleStorage\"][\"evm\"][\"bytecode\"][\"object\"]"
   ]
  },
  {
   "cell_type": "code",
   "execution_count": 6,
   "id": "e1f786e6",
   "metadata": {},
   "outputs": [],
   "source": [
    "abi = compiled_sol[\"contracts\"][\"SimpleStorage.sol\"][\"SimpleStorage\"][\"abi\"]"
   ]
  },
  {
   "cell_type": "code",
   "execution_count": 7,
   "id": "f725f623",
   "metadata": {},
   "outputs": [
    {
     "data": {
      "text/plain": [
       "True"
      ]
     },
     "execution_count": 7,
     "metadata": {},
     "output_type": "execute_result"
    }
   ],
   "source": [
    "from web3 import Web3\n",
    "w3 = Web3(Web3.HTTPProvider('http://127.0.0.1:8545'))\n",
    "w3.isConnected()"
   ]
  },
  {
   "cell_type": "code",
   "execution_count": 8,
   "id": "6702c66b",
   "metadata": {},
   "outputs": [],
   "source": [
    "import os\n",
    "from dotenv import load_dotenv\n",
    "load_dotenv()\n",
    "\n",
    "chain_id = 1337\n",
    "my_address = \"0x39f9b91562bAd3f6Ed2c75923B50859dc5B9BC8e\"\n",
    "private_key = os.getenv(\"PRIVATE_KEY\")"
   ]
  },
  {
   "cell_type": "code",
   "execution_count": 9,
   "id": "909753e3",
   "metadata": {},
   "outputs": [
    {
     "data": {
      "text/plain": [
       "web3._utils.datatypes.Contract"
      ]
     },
     "execution_count": 9,
     "metadata": {},
     "output_type": "execute_result"
    }
   ],
   "source": [
    "SimpleStorage = w3.eth.contract(abi = abi, bytecode = bytecode)\n",
    "SimpleStorage"
   ]
  },
  {
   "cell_type": "code",
   "execution_count": 10,
   "id": "65d138d8",
   "metadata": {},
   "outputs": [
    {
     "data": {
      "text/plain": [
       "0"
      ]
     },
     "execution_count": 10,
     "metadata": {},
     "output_type": "execute_result"
    }
   ],
   "source": [
    "nonce = w3.eth.getTransactionCount(my_address)\n",
    "nonce"
   ]
  },
  {
   "cell_type": "code",
   "execution_count": 11,
   "id": "66c15c5f",
   "metadata": {},
   "outputs": [
    {
     "data": {
      "text/plain": [
       "{'value': 0,\n",
       " 'gas': 366107,\n",
       " 'maxFeePerGas': 3000000000,\n",
       " 'maxPriorityFeePerGas': 1000000000,\n",
       " 'chainId': 1337,\n",
       " 'from': '0x39f9b91562bAd3f6Ed2c75923B50859dc5B9BC8e',\n",
       " 'nonce': 0,\n",
       " 'data': '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',\n",
       " 'to': b''}"
      ]
     },
     "execution_count": 11,
     "metadata": {},
     "output_type": "execute_result"
    }
   ],
   "source": [
    "transaction = SimpleStorage.constructor().buildTransaction({\"chainId\": chain_id, \"from\": my_address, \"nonce\": nonce})\n",
    "transaction"
   ]
  },
  {
   "cell_type": "code",
   "execution_count": 12,
   "id": "0dae0600",
   "metadata": {},
   "outputs": [
    {
     "data": {
      "text/plain": [
       "SignedTransaction(rawTransaction=HexBytes('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'), hash=HexBytes('0x42bf761102faea9d78fa102837064473fb26cca95f0e11a7f673b1291ffea3f9'), r=62275021084918020347029007411941983555961692109043930482465815712856368846368, s=41730321731482725432405818567261255117005222702313940179230354376223021315156, v=0)"
      ]
     },
     "execution_count": 12,
     "metadata": {},
     "output_type": "execute_result"
    }
   ],
   "source": [
    "signed_txn = w3.eth.account.sign_transaction(transaction, private_key)\n",
    "signed_txn"
   ]
  },
  {
   "cell_type": "code",
   "execution_count": 13,
   "id": "1ca2c731",
   "metadata": {},
   "outputs": [
    {
     "data": {
      "text/plain": [
       "HexBytes('0x42bf761102faea9d78fa102837064473fb26cca95f0e11a7f673b1291ffea3f9')"
      ]
     },
     "execution_count": 13,
     "metadata": {},
     "output_type": "execute_result"
    }
   ],
   "source": [
    "tx_hash = w3.eth.send_raw_transaction(signed_txn.rawTransaction)\n",
    "tx_hash"
   ]
  },
  {
   "cell_type": "code",
   "execution_count": 14,
   "id": "47b1689f",
   "metadata": {},
   "outputs": [
    {
     "data": {
      "text/plain": [
       "AttributeDict({'transactionHash': HexBytes('0x42bf761102faea9d78fa102837064473fb26cca95f0e11a7f673b1291ffea3f9'),\n",
       " 'transactionIndex': 0,\n",
       " 'blockNumber': 1,\n",
       " 'blockHash': HexBytes('0x5b16e81f129d247ba40c2e45f69ed1f31f8546cb61f2c4d14f4d0aee5f8fe568'),\n",
       " 'from': '0x39f9b91562bAd3f6Ed2c75923B50859dc5B9BC8e',\n",
       " 'to': None,\n",
       " 'cumulativeGasUsed': 366107,\n",
       " 'gasUsed': 366107,\n",
       " 'contractAddress': '0x0E28FA105199a5b6c35736AfadcbFa4fa0fDB2df',\n",
       " 'logs': [],\n",
       " 'logsBloom': HexBytes('0x00000000000000000000000000000000000000000000000000000000000000000000000000000000000000000000000000000000000000000000000000000000000000000000000000000000000000000000000000000000000000000000000000000000000000000000000000000000000000000000000000000000000000000000000000000000000000000000000000000000000000000000000000000000000000000000000000000000000000000000000000000000000000000000000000000000000000000000000000000000000000000000000000000000000000000000000000000000000000000000000000000000000000000000000000000000'),\n",
       " 'status': 1,\n",
       " 'effectiveGasPrice': 1875000000,\n",
       " 'type': '0x2'})"
      ]
     },
     "execution_count": 14,
     "metadata": {},
     "output_type": "execute_result"
    }
   ],
   "source": [
    "tx_receipt = w3.eth.wait_for_transaction_receipt(tx_hash)\n",
    "tx_receipt"
   ]
  },
  {
   "cell_type": "code",
   "execution_count": 17,
   "id": "f1fb229e",
   "metadata": {},
   "outputs": [
    {
     "data": {
      "text/plain": [
       "0"
      ]
     },
     "execution_count": 17,
     "metadata": {},
     "output_type": "execute_result"
    }
   ],
   "source": [
    "simple_storage = w3.eth.contract(address=tx_receipt.contractAddress, abi=abi)\n",
    "simple_storage.functions.retrieve().call()"
   ]
  },
  {
   "cell_type": "code",
   "execution_count": 23,
   "id": "18c74a81",
   "metadata": {},
   "outputs": [
    {
     "data": {
      "text/plain": [
       "0"
      ]
     },
     "execution_count": 23,
     "metadata": {},
     "output_type": "execute_result"
    }
   ],
   "source": [
    "simple_storage.functions.retrieve().call()"
   ]
  }
 ],
 "metadata": {
  "kernelspec": {
   "display_name": "Python 3",
   "language": "python",
   "name": "python3"
  },
  "language_info": {
   "codemirror_mode": {
    "name": "ipython",
    "version": 3
   },
   "file_extension": ".py",
   "mimetype": "text/x-python",
   "name": "python",
   "nbconvert_exporter": "python",
   "pygments_lexer": "ipython3",
   "version": "3.8.8"
  }
 },
 "nbformat": 4,
 "nbformat_minor": 5
}
